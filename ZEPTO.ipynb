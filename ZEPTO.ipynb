{
 "cells": [
  {
   "cell_type": "markdown",
   "id": "de0d2044-9178-4feb-b57b-9265268f2a37",
   "metadata": {},
   "source": [
    "## **DATA ANALYSIS PROJECT - ZEPTO ANALYSIS**"
   ]
  },
  {
   "cell_type": "markdown",
   "id": "8be8356a-e6f4-4f74-879e-84465e22ffde",
   "metadata": {},
   "source": [
    "### IMPORTING LIBRABRIES"
   ]
  },
  {
   "cell_type": "code",
   "execution_count": 8,
   "id": "7a99b9a8-2d19-4341-9971-86203079dc5b",
   "metadata": {},
   "outputs": [],
   "source": [
    "import pandas as pd\n",
    "import numpy as np\n",
    "import matplotlib.pyplot as plt\n",
    "import seaborn as sns"
   ]
  },
  {
   "cell_type": "markdown",
   "id": "8784256e-8333-41d0-a496-755f329f5749",
   "metadata": {},
   "source": [
    "## IMPORT RAW DATA"
   ]
  },
  {
   "cell_type": "code",
   "execution_count": null,
   "id": "716439a3-8f07-4600-a38b-0d213daac600",
   "metadata": {},
   "outputs": [],
   "source": [
    "df=pd.read_csv(\""
   ]
  }
 ],
 "metadata": {
  "kernelspec": {
   "display_name": "Python 3 (ipykernel)",
   "language": "python",
   "name": "python3"
  },
  "language_info": {
   "codemirror_mode": {
    "name": "ipython",
    "version": 3
   },
   "file_extension": ".py",
   "mimetype": "text/x-python",
   "name": "python",
   "nbconvert_exporter": "python",
   "pygments_lexer": "ipython3",
   "version": "3.13.5"
  }
 },
 "nbformat": 4,
 "nbformat_minor": 5
}
